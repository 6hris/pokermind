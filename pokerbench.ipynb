{
 "cells": [
  {
   "cell_type": "code",
   "execution_count": 2,
   "id": "173e2309-a47e-4d16-819b-7e33f67e4e52",
   "metadata": {},
   "outputs": [
    {
     "data": {
      "application/vnd.jupyter.widget-view+json": {
       "model_id": "8ac5f8f85f6e4172aabe96a5e9768d76",
       "version_major": 2,
       "version_minor": 0
      },
      "text/plain": [
       "README.md:   0%|          | 0.00/5.16k [00:00<?, ?B/s]"
      ]
     },
     "metadata": {},
     "output_type": "display_data"
    },
    {
     "data": {
      "application/vnd.jupyter.widget-view+json": {
       "model_id": "1ce33fb10cea4b1cbbc3d8ed1eee74ee",
       "version_major": 2,
       "version_minor": 0
      },
      "text/plain": [
       "(…)lop_500k_train_set_prompt_and_label.json:   0%|          | 0.00/607M [00:00<?, ?B/s]"
      ]
     },
     "metadata": {},
     "output_type": "display_data"
    },
    {
     "data": {
      "application/vnd.jupyter.widget-view+json": {
       "model_id": "4116b049bfe24df2b9b7b4e477186a80",
       "version_major": 2,
       "version_minor": 0
      },
      "text/plain": [
       "(…)flop_60k_train_set_prompt_and_label.json:   0%|          | 0.00/62.0M [00:00<?, ?B/s]"
      ]
     },
     "metadata": {},
     "output_type": "display_data"
    },
    {
     "data": {
      "application/vnd.jupyter.widget-view+json": {
       "model_id": "a5b453b8537f4b3e97bb255fb8a5d266",
       "version_major": 2,
       "version_minor": 0
      },
      "text/plain": [
       "(…)tflop_10k_test_set_prompt_and_label.json:   0%|          | 0.00/12.2M [00:00<?, ?B/s]"
      ]
     },
     "metadata": {},
     "output_type": "display_data"
    },
    {
     "data": {
      "application/vnd.jupyter.widget-view+json": {
       "model_id": "b2454187d77047b28b3e18d17a4eb117",
       "version_major": 2,
       "version_minor": 0
      },
      "text/plain": [
       "(…)reflop_1k_test_set_prompt_and_label.json:   0%|          | 0.00/965k [00:00<?, ?B/s]"
      ]
     },
     "metadata": {},
     "output_type": "display_data"
    },
    {
     "data": {
      "application/vnd.jupyter.widget-view+json": {
       "model_id": "16c975f1bb4d484489e0efd02b46bea5",
       "version_major": 2,
       "version_minor": 0
      },
      "text/plain": [
       "Generating train split:   0%|          | 0/563200 [00:00<?, ? examples/s]"
      ]
     },
     "metadata": {},
     "output_type": "display_data"
    },
    {
     "data": {
      "application/vnd.jupyter.widget-view+json": {
       "model_id": "0e8fe666df1c48cf99bf2ebe4c5b0bbf",
       "version_major": 2,
       "version_minor": 0
      },
      "text/plain": [
       "Generating test split:   0%|          | 0/11000 [00:00<?, ? examples/s]"
      ]
     },
     "metadata": {},
     "output_type": "display_data"
    }
   ],
   "source": [
    "from datasets import load_dataset\n",
    "\n",
    "ds = load_dataset(\"RZ412/PokerBench\")"
   ]
  },
  {
   "cell_type": "code",
   "execution_count": 3,
   "id": "397779d8-3c77-420e-9371-9f8d621fe817",
   "metadata": {},
   "outputs": [
    {
     "data": {
      "text/plain": [
       "{'train': (563200, 2), 'test': (11000, 2)}"
      ]
     },
     "execution_count": 3,
     "metadata": {},
     "output_type": "execute_result"
    }
   ],
   "source": [
    "ds.shape"
   ]
  },
  {
   "cell_type": "code",
   "execution_count": 12,
   "id": "67208356-9f19-4d26-85d3-32ee2033ca88",
   "metadata": {},
   "outputs": [],
   "source": [
    "import os\n",
    "from dotenv import load_dotenv\n",
    "\n",
    "load_dotenv()\n",
    "api_key = os.getenv(\"OPENROUTER_API_KEY\")"
   ]
  },
  {
   "cell_type": "code",
   "execution_count": 32,
   "id": "223fa0f2-5abc-4370-8189-1e3e18f951b7",
   "metadata": {},
   "outputs": [],
   "source": [
    "test_data = ds['test']"
   ]
  },
  {
   "cell_type": "code",
   "execution_count": 90,
   "id": "5d7f4349-6b56-4764-af13-af0a6129a9ee",
   "metadata": {},
   "outputs": [],
   "source": [
    "import requests\n",
    "def query_llm(prompt, model):\n",
    "    headers = {\n",
    "        \"Authorization\": f\"Bearer {api_key}\",\n",
    "        \"Content-Type\": \"application/json\"\n",
    "    }\n",
    "    payload = {\n",
    "        \"model\": model,\n",
    "        \"prompt\": prompt,\n",
    "        \"temperature\": 0.1,\n",
    "        \"top_p\": 0.95\n",
    "    }\n",
    "    response = requests.post(\"https://openrouter.ai/api/v1/completions\", headers=headers, json=payload)\n",
    "    response_data = response.json()\n",
    "    if \"choices\" not in response_data:\n",
    "        print(response_data)\n",
    "        return\n",
    "    txt = response.json()[\"choices\"][0][\"text\"].strip()\n",
    "    print(txt)\n",
    "    return txt"
   ]
  },
  {
   "cell_type": "code",
   "execution_count": 96,
   "id": "41760969-10df-4b14-b6fc-2aec64db7c8c",
   "metadata": {},
   "outputs": [],
   "source": [
    "model_deepseek = \"deepseek/deepseek-r1:free\"\n",
    "model_llama = \"meta-llama/llama-3.3-70b-instruct\"\n",
    "model_gemini = \"google/gemini-2.0-flash-lite-preview-02-05:free\""
   ]
  },
  {
   "cell_type": "code",
   "execution_count": 97,
   "id": "0f656850-2d22-4924-9ca7-c101ef568c09",
   "metadata": {},
   "outputs": [],
   "source": [
    "def evaluate_model(predictions, ground_truths):\n",
    "    action_correct = 0\n",
    "    exact_match_correct = 0\n",
    "    total = len(ground_truths)\n",
    "\n",
    "    for pred, true in zip(predictions, ground_truths):\n",
    "        pred_action = pred.lower().split()[0]\n",
    "        true_action = true.lower().split()[0]\n",
    "        \n",
    "        # Action Accuracy: Does the action match?\n",
    "        if pred_action == true_action:\n",
    "            action_correct += 1\n",
    "        \n",
    "        # Exact Match Accuracy: Does the entire response match?\n",
    "        if pred.lower() == true.lower():\n",
    "            exact_match_correct += 1\n",
    "\n",
    "    action_accuracy = (action_correct / total) * 100\n",
    "    exact_match_accuracy = (exact_match_correct / total) * 100\n",
    "\n",
    "    return action_accuracy, exact_match_accuracy\n"
   ]
  },
  {
   "cell_type": "code",
   "execution_count": 98,
   "id": "95e540b2-9b24-45b1-9b3b-3b19f1dce786",
   "metadata": {},
   "outputs": [],
   "source": [
    "instructions = test_data['instruction']\n",
    "outputs = test_data['output']"
   ]
  },
  {
   "cell_type": "code",
   "execution_count": 99,
   "id": "9df7972d-aacb-432d-a3a7-40d3b36b8802",
   "metadata": {},
   "outputs": [
    {
     "name": "stdout",
     "output_type": "stream",
     "text": [
      "Check\n"
     ]
    },
    {
     "data": {
      "text/plain": [
       "'Check'"
      ]
     },
     "execution_count": 99,
     "metadata": {},
     "output_type": "execute_result"
    }
   ],
   "source": [
    "query_llm(instructions[0], model_gemini)"
   ]
  },
  {
   "cell_type": "code",
   "execution_count": 101,
   "id": "838f3a40-0dab-4f86-ac85-32f2862742ed",
   "metadata": {},
   "outputs": [
    {
     "name": "stdout",
     "output_type": "stream",
     "text": [
      "Check\n",
      "Check\n",
      "Check\n",
      "Bet 10 chips\n",
      "Check\n",
      "Call\n",
      "Call\n",
      "Check\n",
      "Call\n",
      "Call\n",
      "Call\n",
      "Bet 20 chips\n",
      "Check\n",
      "Check\n",
      "Check\n",
      "Fold\n",
      "Call\n",
      "Call\n",
      "Action Accuracy (AA): 83.33%\n",
      "Exact Match Accuracy (EM): 77.78%\n"
     ]
    }
   ],
   "source": [
    "instructions = test_data['instruction']\n",
    "outputs = test_data['output']\n",
    "\n",
    "predictions = [query_llm(instruction, model_gemini) for instruction in instructions[:18]]\n",
    "\n",
    "aa, em = evaluate_model(predictions, outputs[:18])\n",
    "\n",
    "print(f\"Action Accuracy (AA): {aa:.2f}%\")\n",
    "print(f\"Exact Match Accuracy (EM): {em:.2f}%\")"
   ]
  },
  {
   "cell_type": "code",
   "execution_count": null,
   "id": "8cc8637e-9060-455d-b332-1f9b16e69d20",
   "metadata": {},
   "outputs": [],
   "source": []
  }
 ],
 "metadata": {
  "kernelspec": {
   "display_name": "Python 3 (ipykernel)",
   "language": "python",
   "name": "python3"
  },
  "language_info": {
   "codemirror_mode": {
    "name": "ipython",
    "version": 3
   },
   "file_extension": ".py",
   "mimetype": "text/x-python",
   "name": "python",
   "nbconvert_exporter": "python",
   "pygments_lexer": "ipython3",
   "version": "3.10.16"
  }
 },
 "nbformat": 4,
 "nbformat_minor": 5
}
