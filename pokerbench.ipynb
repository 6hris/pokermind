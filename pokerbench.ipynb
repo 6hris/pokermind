{
 "cells": [
  {
   "cell_type": "code",
   "execution_count": 1,
   "id": "173e2309-a47e-4d16-819b-7e33f67e4e52",
   "metadata": {},
   "outputs": [],
   "source": [
    "from datasets import load_dataset\n",
    "\n",
    "ds = load_dataset(\"RZ412/PokerBench\")"
   ]
  },
  {
   "cell_type": "code",
   "execution_count": 2,
   "id": "397779d8-3c77-420e-9371-9f8d621fe817",
   "metadata": {},
   "outputs": [
    {
     "data": {
      "text/plain": [
       "{'train': (563200, 2), 'test': (11000, 2)}"
      ]
     },
     "execution_count": 2,
     "metadata": {},
     "output_type": "execute_result"
    }
   ],
   "source": [
    "ds.shape"
   ]
  },
  {
   "cell_type": "code",
   "execution_count": 3,
   "id": "67208356-9f19-4d26-85d3-32ee2033ca88",
   "metadata": {},
   "outputs": [],
   "source": [
    "import os\n",
    "from dotenv import load_dotenv\n",
    "\n",
    "load_dotenv()\n",
    "api_key = os.getenv(\"OPENROUTER_API_KEY\")\n",
    "ds_key = os.getenv(\"DEEPSEEK_API_KEY\")"
   ]
  },
  {
   "cell_type": "code",
   "execution_count": 4,
   "id": "223fa0f2-5abc-4370-8189-1e3e18f951b7",
   "metadata": {},
   "outputs": [],
   "source": [
    "test_data = ds['test']"
   ]
  },
  {
   "cell_type": "code",
   "execution_count": 5,
   "id": "5d7f4349-6b56-4764-af13-af0a6129a9ee",
   "metadata": {},
   "outputs": [],
   "source": [
    "import requests\n",
    "def query_llm(prompt, model):\n",
    "    headers = {\n",
    "        \"Authorization\": f\"Bearer {api_key}\",\n",
    "        \"Content-Type\": \"application/json\"\n",
    "    }\n",
    "    payload = {\n",
    "        \"model\": model,\n",
    "        \"prompt\": prompt,\n",
    "       # \"temperature\": 0.1,\n",
    "        #\"top_p\": 0.95\n",
    "    }\n",
    "    response = requests.post(\"https://openrouter.ai/api/v1/completions\", headers=headers, json=payload)\n",
    "    response_data = response.json()\n",
    "    if \"choices\" not in response_data:\n",
    "        print(response_data)\n",
    "        return\n",
    "    txt = response.json()[\"choices\"][0][\"text\"]\n",
    "    return txt"
   ]
  },
  {
   "cell_type": "code",
   "execution_count": 68,
   "id": "8c119b41-291d-4615-8271-2d9fe752ba78",
   "metadata": {},
   "outputs": [],
   "source": [
    "from openai import OpenAI\n",
    "\n",
    "client = OpenAI(api_key=api_key, base_url=\"https://openrouter.ai/api/v1\")\n",
    "\n",
    "def query_deepseek(prompt):\n",
    "    try:\n",
    "        response = client.chat.completions.create(\n",
    "            model=\"deepseek/deepseek-r1-distill-qwen-32b\",\n",
    "            messages=[{\"role\": \"user\", \"content\": prompt}],\n",
    "            #temperature=0.1, \n",
    "            #top_p=0.95\n",
    "        )\n",
    "        if response.choices:\n",
    "            return response.choices[0].message.content\n",
    "        else:\n",
    "            print(\"No response choices available.\")\n",
    "            return None\n",
    "\n",
    "    except Exception as e:\n",
    "        print(f\"Error querying DeepSeek API: {e}\")\n",
    "        return None\n"
   ]
  },
  {
   "cell_type": "code",
   "execution_count": 7,
   "id": "41760969-10df-4b14-b6fc-2aec64db7c8c",
   "metadata": {},
   "outputs": [],
   "source": [
    "model_deepseek = \"deepseek/deepseek-r1\"\n",
    "model_llama = \"meta-llama/llama-3.3-70b-instruct\"\n",
    "model_gemini = \"google/gemini-2.0-flash-lite-preview-02-05:free\""
   ]
  },
  {
   "cell_type": "code",
   "execution_count": 8,
   "id": "95e540b2-9b24-45b1-9b3b-3b19f1dce786",
   "metadata": {},
   "outputs": [],
   "source": [
    "instructions = test_data['instruction']\n",
    "outputs = test_data['output']"
   ]
  },
  {
   "cell_type": "code",
   "execution_count": 69,
   "id": "4c778822-47f3-49d4-a5ed-4f270811c93a",
   "metadata": {},
   "outputs": [],
   "source": [
    "import json\n",
    "import time\n",
    "\n",
    "def batch_query_deepseek(test_subset, output_file=\"results.json\", save_every=50):\n",
    "    \"\"\"Batch queries DeepSeek and saves responses to a JSON file.\"\"\"\n",
    "    \n",
    "    results = []\n",
    "    \n",
    "    for i, entry in enumerate(test_subset):\n",
    "        response = query_deepseek(entry[\"instruction\"])\n",
    "        results.append({\"Index\": i, \"Response\": response})\n",
    "\n",
    "        if (i + 1) % save_every == 0:\n",
    "            with open(output_file, \"w\") as f:\n",
    "                json.dump(results, f, indent=4)\n",
    "            print(f\"✅ Saved {i+1}/{len(test_subset)} results to {output_file}\")\n",
    "\n",
    "    with open(output_file, \"w\") as f:\n",
    "        json.dump(results, f, indent=4)\n",
    "    \n",
    "    print(\"✅ Done! Results saved to:\", output_file)\n"
   ]
  },
  {
   "cell_type": "code",
   "execution_count": 72,
   "id": "8695824c-0778-4a30-a344-7e7569895a97",
   "metadata": {},
   "outputs": [],
   "source": [
    "np.random.seed(42)\n",
    "test_data_array = np.array(test_data)\n",
    "random_indices = np.random.choice(len(test_data_array), size=400, replace=False)\n",
    "test_subset = test_data_array[random_indices] "
   ]
  },
  {
   "cell_type": "code",
   "execution_count": 73,
   "id": "86fe6187-7b3d-4b56-a37b-408fba01c4fe",
   "metadata": {},
   "outputs": [
    {
     "name": "stdout",
     "output_type": "stream",
     "text": [
      "✅ Saved 20/400 results to deepseek_results.json\n",
      "✅ Saved 40/400 results to deepseek_results.json\n",
      "✅ Saved 60/400 results to deepseek_results.json\n",
      "✅ Saved 80/400 results to deepseek_results.json\n",
      "No response choices available.\n",
      "✅ Saved 100/400 results to deepseek_results.json\n",
      "No response choices available.\n",
      "✅ Saved 120/400 results to deepseek_results.json\n",
      "No response choices available.\n",
      "No response choices available.\n",
      "✅ Saved 140/400 results to deepseek_results.json\n",
      "✅ Saved 160/400 results to deepseek_results.json\n",
      "No response choices available.\n",
      "✅ Saved 180/400 results to deepseek_results.json\n",
      "No response choices available.\n",
      "No response choices available.\n",
      "No response choices available.\n",
      "✅ Saved 200/400 results to deepseek_results.json\n",
      "✅ Saved 220/400 results to deepseek_results.json\n",
      "✅ Saved 240/400 results to deepseek_results.json\n",
      "✅ Saved 260/400 results to deepseek_results.json\n",
      "✅ Saved 280/400 results to deepseek_results.json\n",
      "✅ Saved 300/400 results to deepseek_results.json\n",
      "✅ Saved 320/400 results to deepseek_results.json\n",
      "✅ Saved 340/400 results to deepseek_results.json\n",
      "✅ Saved 360/400 results to deepseek_results.json\n",
      "✅ Saved 380/400 results to deepseek_results.json\n",
      "✅ Saved 400/400 results to deepseek_results.json\n",
      "✅ Done! Results saved to: deepseek_results.json\n"
     ]
    }
   ],
   "source": [
    "batch_query_deepseek(test_subset, output_file=\"deepseek_results.json\", save_every=20)"
   ]
  },
  {
   "cell_type": "code",
   "execution_count": 97,
   "id": "d017ff8c-7c1c-464e-a5d0-4180f0757f0e",
   "metadata": {},
   "outputs": [],
   "source": [
    "import re\n",
    "\n",
    "def extract_action(response):\n",
    "    if not response:\n",
    "        return \"fail\"\n",
    "    # Define the regex pattern to match the action and optional value\n",
    "    pattern = r\"(bet|raise|call|fold|check)\\s*(\\d*)\"\n",
    "    \n",
    "    # Search for the pattern in the response\n",
    "    match = re.search(pattern, response, re.IGNORECASE)\n",
    "    \n",
    "    if match:\n",
    "        action = match.group(1).lower()  # Extract the action (e.g., \"bet\")\n",
    "        value = match.group(2) if match.group(2) else None  # Extract the value (e.g., \"4\")\n",
    "        \n",
    "        # Return the action and value (if applicable)\n",
    "        if value:\n",
    "            return f\"{action} {value}\"\n",
    "        else:\n",
    "            return action\n",
    "    else:\n",
    "        return \"fail\""
   ]
  },
  {
   "cell_type": "code",
   "execution_count": 101,
   "id": "838f3a40-0dab-4f86-ac85-32f2862742ed",
   "metadata": {},
   "outputs": [
    {
     "name": "stdout",
     "output_type": "stream",
     "text": [
      "Check\n",
      "Check\n",
      "Check\n",
      "Bet 10 chips\n",
      "Check\n",
      "Call\n",
      "Call\n",
      "Check\n",
      "Call\n",
      "Call\n",
      "Call\n",
      "Bet 20 chips\n",
      "Check\n",
      "Check\n",
      "Check\n",
      "Fold\n",
      "Call\n",
      "Call\n",
      "Action Accuracy (AA): 83.33%\n",
      "Exact Match Accuracy (EM): 77.78%\n"
     ]
    }
   ],
   "source": [
    "instructions = test_data['instruction']\n",
    "outputs = test_data['output']\n",
    "\n",
    "predictions = [query_llm(instruction, model_gemini) for instruction in instructions[:18]]\n",
    "\n",
    "aa, em = evaluate_model(predictions, outputs[:18])\n",
    "\n",
    "print(f\"Action Accuracy (AA): {aa:.2f}%\")\n",
    "print(f\"Exact Match Accuracy (EM): {em:.2f}%\")"
   ]
  },
  {
   "cell_type": "code",
   "execution_count": 93,
   "id": "f2e67ddc-d47f-43bb-ad3f-8b42da9739ad",
   "metadata": {},
   "outputs": [],
   "source": [
    "with open(\"deepseek_results.json\", \"r\") as f:\n",
    "    deepseek_results_data = json.load(f)\n",
    "    \n",
    "deepseek_results = [entry[\"Response\"] for entry in deepseek_results_data]"
   ]
  },
  {
   "cell_type": "code",
   "execution_count": 103,
   "id": "8cc8637e-9060-455d-b332-1f9b16e69d20",
   "metadata": {},
   "outputs": [
    {
     "name": "stdout",
     "output_type": "stream",
     "text": [
      "Action Accuracy (AA): 43.00%\n",
      "Exact Match Accuracy (EM): 37.75%\n"
     ]
    }
   ],
   "source": [
    "subset_outputs = [entry['output'] for entry in test_subset]\n",
    "\n",
    "deepseek_processed_results = [extract_action(res) for res in deepseek_results]\n",
    "aa, em = evaluate_model(deepseek_processed_results, subset_outputs)\n",
    "print(f\"Action Accuracy (AA): {aa:.2f}%\")\n",
    "print(f\"Exact Match Accuracy (EM): {em:.2f}%\")"
   ]
  },
  {
   "cell_type": "code",
   "execution_count": 91,
   "id": "870db2d6-78db-4c7d-a396-62d1594c0aff",
   "metadata": {},
   "outputs": [],
   "source": [
    "def evaluate_model(predictions, ground_truths):\n",
    "    action_correct = 0\n",
    "    exact_match_correct = 0\n",
    "    total = len(ground_truths)\n",
    "\n",
    "    for pred, true in zip(predictions, ground_truths):\n",
    "        pred_action = pred.lower().split()[0]\n",
    "        true_action = true.lower().split()[0]\n",
    "        \n",
    "        # Action Accuracy: Does the action match?\n",
    "        if pred_action == true_action:\n",
    "            action_correct += 1\n",
    "        \n",
    "        # Exact Match Accuracy: Does the entire response match?\n",
    "        if pred.lower() == true.lower():\n",
    "            exact_match_correct += 1\n",
    "\n",
    "    action_accuracy = (action_correct / total) * 100\n",
    "    exact_match_accuracy = (exact_match_correct / total) * 100\n",
    "\n",
    "    return action_accuracy, exact_match_accuracy"
   ]
  },
  {
   "cell_type": "code",
   "execution_count": null,
   "id": "8799c604-5517-4f54-88d2-f166a52a41d7",
   "metadata": {},
   "outputs": [],
   "source": []
  }
 ],
 "metadata": {
  "kernelspec": {
   "display_name": "Python 3 (ipykernel)",
   "language": "python",
   "name": "python3"
  },
  "language_info": {
   "codemirror_mode": {
    "name": "ipython",
    "version": 3
   },
   "file_extension": ".py",
   "mimetype": "text/x-python",
   "name": "python",
   "nbconvert_exporter": "python",
   "pygments_lexer": "ipython3",
   "version": "3.10.16"
  }
 },
 "nbformat": 4,
 "nbformat_minor": 5
}
